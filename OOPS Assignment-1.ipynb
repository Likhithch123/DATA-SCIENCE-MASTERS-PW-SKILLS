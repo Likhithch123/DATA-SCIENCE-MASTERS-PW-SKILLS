{
 "cells": [
  {
   "cell_type": "markdown",
   "id": "d1553c01-67a7-483c-896f-4bec9a909343",
   "metadata": {},
   "source": [
    "1A) Class is a blue print which encapsulates both data and behaviours. \n",
    "Object is a instance of a class or object is a class variable or object is a real world entity and defined for a particular class. A class can have many objects with respect to it."
   ]
  },
  {
   "cell_type": "code",
   "execution_count": 1,
   "id": "41b2fede-9f58-4a29-852c-338e91cb2589",
   "metadata": {},
   "outputs": [],
   "source": [
    "class test():\n",
    "    pass"
   ]
  },
  {
   "cell_type": "code",
   "execution_count": 2,
   "id": "25c62a54-3bfc-45aa-a7b3-6100cc3f982a",
   "metadata": {},
   "outputs": [],
   "source": [
    "a = test()"
   ]
  },
  {
   "cell_type": "code",
   "execution_count": 4,
   "id": "57f82035-15e8-4a1e-b2f2-2472e732d541",
   "metadata": {},
   "outputs": [
    {
     "name": "stdout",
     "output_type": "stream",
     "text": [
      "<class '__main__.test'>\n"
     ]
    }
   ],
   "source": [
    "print(type(a))"
   ]
  },
  {
   "cell_type": "markdown",
   "id": "d1ecca95-742c-457b-8c29-fba86358a63a",
   "metadata": {},
   "source": [
    "In the above code, 'test' is a class and 'a' is a instance of a class or 'a' is a object for class 'test'."
   ]
  },
  {
   "cell_type": "markdown",
   "id": "7d4c3117-6894-46ff-8ce1-b52d1a1516c1",
   "metadata": {},
   "source": [
    "2A) Four pillars of OOPs are listed below:\n",
    "1) Encapsulation\n",
    "2) Abstraction\n",
    "3) Polymorphism\n",
    "4) Inheritance"
   ]
  },
  {
   "cell_type": "markdown",
   "id": "beef42b3-b3f0-4d88-bc82-abf1e6a75606",
   "metadata": {},
   "source": [
    "3A) __init__() is a constructor. And it is used to pass parameters to a class. Basically, it is used for creating multiple no.of objects for a class with same variables."
   ]
  },
  {
   "cell_type": "code",
   "execution_count": 45,
   "id": "0caa9690-46f3-486d-86e4-43ff1e31b982",
   "metadata": {},
   "outputs": [],
   "source": [
    "class employee_details:\n",
    "    def __init__(self,emp_id,emp_email_id,emp_domain):\n",
    "        self.emp_id=emp_id\n",
    "        self.emp_email_id=emp_email_id\n",
    "        self.emp_domain=emp_domain\n",
    "        \n",
    "    def return_employee_details(self):\n",
    "        return self.emp_id,self.emp_email_id,self.emp_domain"
   ]
  },
  {
   "cell_type": "code",
   "execution_count": 44,
   "id": "9247968e-2811-4256-bfb6-88600210bcaf",
   "metadata": {},
   "outputs": [],
   "source": [
    "emp1 = employee_details(101,\"abc@gmail.com\",\"Data Analytics\")"
   ]
  },
  {
   "cell_type": "code",
   "execution_count": 43,
   "id": "9afaf7dd-2593-44e1-bb49-fdc342e34344",
   "metadata": {},
   "outputs": [
    {
     "data": {
      "text/plain": [
       "__main__.employee_details"
      ]
     },
     "execution_count": 43,
     "metadata": {},
     "output_type": "execute_result"
    }
   ],
   "source": [
    "type(emp1)"
   ]
  },
  {
   "cell_type": "code",
   "execution_count": 42,
   "id": "4908b4a0-ddf5-41d8-a864-08a602140103",
   "metadata": {},
   "outputs": [
    {
     "data": {
      "text/plain": [
       "'abc@gmail.com'"
      ]
     },
     "execution_count": 42,
     "metadata": {},
     "output_type": "execute_result"
    }
   ],
   "source": [
    "emp1.emp_email_id"
   ]
  },
  {
   "cell_type": "code",
   "execution_count": 47,
   "id": "17649321-8021-4783-afc2-4e6f8898bcbb",
   "metadata": {},
   "outputs": [
    {
     "data": {
      "text/plain": [
       "'Data Analytics'"
      ]
     },
     "execution_count": 47,
     "metadata": {},
     "output_type": "execute_result"
    }
   ],
   "source": [
    "emp1.emp_domain"
   ]
  },
  {
   "cell_type": "markdown",
   "id": "99580fc8-7830-4dce-b0dc-8f22d0aec01d",
   "metadata": {},
   "source": [
    "4A) Self in OOP's, is used to bind that particular function to that class and variables of that class can only access those functions. It restricts the access from other classes and it defines that this functions are part of this particular class."
   ]
  },
  {
   "cell_type": "markdown",
   "id": "782811f7-89d8-4c91-b665-ae72c10b299c",
   "metadata": {},
   "source": [
    "5A) Inheritance is a property where the derived class inherits the properties of base class, then the derived class can access all the functionality and the base class code can be reused in derived class."
   ]
  },
  {
   "cell_type": "markdown",
   "id": "6694b13a-fac9-4a18-96cc-1c45421b39cc",
   "metadata": {},
   "source": [
    "SINGLE-LEVEL INHERITANCE"
   ]
  },
  {
   "cell_type": "code",
   "execution_count": 2,
   "id": "4cbc8a11-5aa5-40d0-bf82-b5fda732c3ec",
   "metadata": {},
   "outputs": [
    {
     "name": "stdout",
     "output_type": "stream",
     "text": [
      "This function is in child class\n",
      "This function is in parent class\n"
     ]
    }
   ],
   "source": [
    "class parent():\n",
    "    def function1(self):\n",
    "        print(\"This function is in parent class\")\n",
    "        \n",
    "\n",
    "class child(parent):\n",
    "    def function2(self):\n",
    "        print(\"This function is in child class\")\n",
    "        \n",
    "\n",
    "object=child()\n",
    "object.function2()\n",
    "object.function1()"
   ]
  },
  {
   "cell_type": "markdown",
   "id": "e872a1f1-6225-4bb6-bbe3-d3891a4262e7",
   "metadata": {},
   "source": [
    "MULTI-LEVEL INHERITANCE"
   ]
  },
  {
   "cell_type": "code",
   "execution_count": 9,
   "id": "acf7cf6d-39f8-4d49-ba3b-9f0553b3b484",
   "metadata": {},
   "outputs": [],
   "source": [
    "class grandfather():\n",
    "    def __init__(self,grandfather_name):\n",
    "        self.grandfather_name=grandfather_name\n",
    "\n",
    "class father(grandfather):\n",
    "    def __init__(self,father_name,grandfather_name):\n",
    "        self.father_name=father_name\n",
    "        \n",
    "        grandfather.__init__(self,grandfather_name)\n",
    "    \n",
    "class son(father):\n",
    "    def __init__(self,son_name,father_name,grandfather_name):\n",
    "        self.son_name=son_name\n",
    "        \n",
    "        father.__init__(self,father_name,grandfather_name)\n",
    "        \n",
    "    def print_details(self):\n",
    "        print(\"Grandfather name:\",self.grandfather_name)\n",
    "        print(\"Father name:\",self.father_name)\n",
    "        print(\"Son name:\",self.son_name)\n",
    "        \n"
   ]
  },
  {
   "cell_type": "code",
   "execution_count": 11,
   "id": "41222567-f655-4ec9-9d37-8c9f641cf770",
   "metadata": {},
   "outputs": [
    {
     "name": "stdout",
     "output_type": "stream",
     "text": [
      "Grandfather name: PW Skills\n",
      "Father name: Course\n",
      "Son name: Data Science Masters\n"
     ]
    }
   ],
   "source": [
    "son_name = son('Data Science Masters','Course','PW Skills')\n",
    "son_name.print_details()"
   ]
  },
  {
   "cell_type": "markdown",
   "id": "336bbd5a-2c0e-429c-bea5-ea09c57c1f5e",
   "metadata": {},
   "source": [
    "MULTIPLE INHERITANCE"
   ]
  },
  {
   "cell_type": "code",
   "execution_count": 12,
   "id": "1069c759-e436-46ed-97a6-46e19b0cb64f",
   "metadata": {},
   "outputs": [],
   "source": [
    "class Father:\n",
    "    father_name=''\n",
    "    def father_name(self):\n",
    "        print(self.father_name)\n",
    "class Mother:\n",
    "    mother_name=''\n",
    "    def mother_name(self):\n",
    "        print(self.mother_name)\n",
    "class Son(Father,Mother):\n",
    "    def parents(self):\n",
    "        print('Father name:',self.father_name)\n",
    "        print('Mother name:',self.mother_name)\n",
    "        "
   ]
  },
  {
   "cell_type": "code",
   "execution_count": 13,
   "id": "ed2d5f5e-d1e2-464b-a3e4-4788c218a44b",
   "metadata": {},
   "outputs": [],
   "source": [
    "son=Son()"
   ]
  },
  {
   "cell_type": "code",
   "execution_count": 15,
   "id": "238c5b04-cefe-4fe4-8deb-9c96e3cf4737",
   "metadata": {},
   "outputs": [],
   "source": [
    "son.father_name='ABC'\n",
    "son.mother_name='PQR'"
   ]
  },
  {
   "cell_type": "code",
   "execution_count": 16,
   "id": "2a89c5f8-b628-40d3-abde-f14b47663bbd",
   "metadata": {},
   "outputs": [
    {
     "name": "stdout",
     "output_type": "stream",
     "text": [
      "Father name: ABC\n",
      "Mother name: PQR\n"
     ]
    }
   ],
   "source": [
    "son.parents()"
   ]
  },
  {
   "cell_type": "markdown",
   "id": "6dd095c5-530f-4bc0-9db6-c7fae317bfb5",
   "metadata": {},
   "source": [
    "HIERARCHICAL INHERITANCE"
   ]
  },
  {
   "cell_type": "code",
   "execution_count": 22,
   "id": "8a8733f9-5143-47e1-80aa-ca8cfeddef32",
   "metadata": {},
   "outputs": [],
   "source": [
    "class parent:\n",
    "    def function(self):\n",
    "        print('This function is in parent class')\n",
    "class child1(parent):\n",
    "    def function_1(self):\n",
    "        print('This function is in child1 class')\n",
    "class child2(parent):\n",
    "    def function_2(self):\n",
    "        print('This function is in child2 class')"
   ]
  },
  {
   "cell_type": "code",
   "execution_count": 23,
   "id": "49cb1b31-11cb-4f89-a7a7-25d60811229f",
   "metadata": {},
   "outputs": [],
   "source": [
    "object1=child1()\n",
    "object2=child2()"
   ]
  },
  {
   "cell_type": "code",
   "execution_count": 24,
   "id": "b67bafec-3de6-4643-8596-93b7c31c8e04",
   "metadata": {},
   "outputs": [
    {
     "name": "stdout",
     "output_type": "stream",
     "text": [
      "This function is in parent class\n",
      "This function is in child1 class\n",
      "This function is in parent class\n",
      "This function is in child2 class\n"
     ]
    }
   ],
   "source": [
    "object1.function()\n",
    "object1.function_1()\n",
    "object2.function()\n",
    "object2.function_2()"
   ]
  },
  {
   "cell_type": "markdown",
   "id": "d7aea3bc-2246-4ff4-bd60-b5ae8da1796b",
   "metadata": {},
   "source": [
    "HYBRID INHERITANCE"
   ]
  },
  {
   "cell_type": "code",
   "execution_count": 25,
   "id": "410018ee-a33f-4292-b658-2be1d01ad3f6",
   "metadata": {},
   "outputs": [],
   "source": [
    "class First:\n",
    "    def func_1(self):\n",
    "        print('This function is in first class')\n",
    "class Second(First):\n",
    "    def func_2(self):\n",
    "        print('This function is in second class')\n",
    "class Third(First):\n",
    "    def func_3(self):\n",
    "        print('This function is in third class')\n",
    "class Fourth(Second,Third):\n",
    "    def func_4(self):\n",
    "        print('This function is in fourth class')\n",
    "        "
   ]
  },
  {
   "cell_type": "code",
   "execution_count": 26,
   "id": "c7ea6f89-55f8-48a0-875a-4a24556f1ee4",
   "metadata": {},
   "outputs": [],
   "source": [
    "Fourth_object=Fourth()"
   ]
  },
  {
   "cell_type": "code",
   "execution_count": 28,
   "id": "5397e4cf-f2dc-41ea-868e-321d099f9b37",
   "metadata": {},
   "outputs": [
    {
     "name": "stdout",
     "output_type": "stream",
     "text": [
      "This function is in first class\n",
      "This function is in second class\n",
      "This function is in third class\n",
      "This function is in fourth class\n"
     ]
    }
   ],
   "source": [
    "Fourth_object.func_1()\n",
    "Fourth_object.func_2()\n",
    "Fourth_object.func_3()\n",
    "Fourth_object.func_4()"
   ]
  }
 ],
 "metadata": {
  "kernelspec": {
   "display_name": "Python 3 (ipykernel)",
   "language": "python",
   "name": "python3"
  },
  "language_info": {
   "codemirror_mode": {
    "name": "ipython",
    "version": 3
   },
   "file_extension": ".py",
   "mimetype": "text/x-python",
   "name": "python",
   "nbconvert_exporter": "python",
   "pygments_lexer": "ipython3",
   "version": "3.10.8"
  }
 },
 "nbformat": 4,
 "nbformat_minor": 5
}
