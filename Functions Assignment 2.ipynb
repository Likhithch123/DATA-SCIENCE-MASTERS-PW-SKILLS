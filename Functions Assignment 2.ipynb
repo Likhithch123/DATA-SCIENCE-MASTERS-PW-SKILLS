{
 "cells": [
  {
   "cell_type": "code",
   "execution_count": 1,
   "id": "379c36a9-b585-4830-a9aa-1c27daf38a05",
   "metadata": {},
   "outputs": [
    {
     "data": {
      "text/plain": [
       "[('Sachin Tendulkar', 34357),\n",
       " ('Ricky Ponting', 27483),\n",
       " ('Jack Kallis', 25534),\n",
       " ('Virat Kohli', 24936)]"
      ]
     },
     "execution_count": 1,
     "metadata": {},
     "output_type": "execute_result"
    }
   ],
   "source": [
    "list1=[('Sachin Tendulkar',34357),('Ricky Ponting',27483),('Jack Kallis',25534),('Virat Kohli',24936)]\n",
    "list1"
   ]
  },
  {
   "cell_type": "code",
   "execution_count": null,
   "id": "5191d214-77ac-4560-b9a6-c16f6bb6ddbe",
   "metadata": {},
   "outputs": [],
   "source": [
    "list1.sort(players=lambda x: x[1])"
   ]
  },
  {
   "cell_type": "code",
   "execution_count": 14,
   "id": "c35408de-ad18-427e-bdf8-ee5031c5f74e",
   "metadata": {},
   "outputs": [
    {
     "data": {
      "text/plain": [
       "[('Jack Kallis', 25534),\n",
       " ('Ricky Ponting', 27483),\n",
       " ('Sachin Tendulkar', 34357),\n",
       " ('Virat Kohli', 24936)]"
      ]
     },
     "execution_count": 14,
     "metadata": {},
     "output_type": "execute_result"
    }
   ],
   "source": [
    "list1"
   ]
  },
  {
   "cell_type": "code",
   "execution_count": 17,
   "id": "7035fd0b-9f8f-4f64-9b8b-dbd0d991b9d5",
   "metadata": {},
   "outputs": [
    {
     "data": {
      "text/plain": [
       "[1, 4, 9, 16, 25, 36, 49, 64, 81, 100]"
      ]
     },
     "execution_count": 17,
     "metadata": {},
     "output_type": "execute_result"
    }
   ],
   "source": [
    "list2=[1,2,3,4,5,6,7,8,9,10]\n",
    "list(map(lambda y: y**2,list2))"
   ]
  },
  {
   "cell_type": "code",
   "execution_count": 18,
   "id": "ee6f829c-15d5-42ff-b929-a80dd7c6f88a",
   "metadata": {},
   "outputs": [
    {
     "data": {
      "text/plain": [
       "('1', '2', '3', '4', '5', '6', '7', '8', '9', '10')"
      ]
     },
     "execution_count": 18,
     "metadata": {},
     "output_type": "execute_result"
    }
   ],
   "source": [
    "list3=list(map(lambda s: str(s),list2))\n",
    "tuple(list3)"
   ]
  },
  {
   "cell_type": "code",
   "execution_count": 25,
   "id": "095a1f8f-1fe7-48ab-82c6-885a7a54a578",
   "metadata": {},
   "outputs": [],
   "source": [
    "list4=[]\n",
    "for i in range(1,26):\n",
    "    list4.append(i)"
   ]
  },
  {
   "cell_type": "code",
   "execution_count": 26,
   "id": "bdc19772-6769-4da0-93a4-88c51e215c77",
   "metadata": {},
   "outputs": [
    {
     "data": {
      "text/plain": [
       "[1,\n",
       " 2,\n",
       " 3,\n",
       " 4,\n",
       " 5,\n",
       " 6,\n",
       " 7,\n",
       " 8,\n",
       " 9,\n",
       " 10,\n",
       " 11,\n",
       " 12,\n",
       " 13,\n",
       " 14,\n",
       " 15,\n",
       " 16,\n",
       " 17,\n",
       " 18,\n",
       " 19,\n",
       " 20,\n",
       " 21,\n",
       " 22,\n",
       " 23,\n",
       " 24,\n",
       " 25]"
      ]
     },
     "execution_count": 26,
     "metadata": {},
     "output_type": "execute_result"
    }
   ],
   "source": [
    "list4"
   ]
  },
  {
   "cell_type": "code",
   "execution_count": 27,
   "id": "8db4759a-3243-4feb-95b7-b021f968d4ec",
   "metadata": {},
   "outputs": [
    {
     "data": {
      "text/plain": [
       "15511210043330985984000000"
      ]
     },
     "execution_count": 27,
     "metadata": {},
     "output_type": "execute_result"
    }
   ],
   "source": [
    "from functools import reduce \n",
    "reduce(lambda x,y: x*y,list4)"
   ]
  },
  {
   "cell_type": "code",
   "execution_count": 28,
   "id": "2b186b8f-319b-4a9c-ba98-cb8c6d1d33a9",
   "metadata": {},
   "outputs": [
    {
     "data": {
      "text/plain": [
       "15511210043330985984000000"
      ]
     },
     "execution_count": 28,
     "metadata": {},
     "output_type": "execute_result"
    }
   ],
   "source": [
    "numbers=list(range(1,26))\n",
    "product=lambda x,y: x*y\n",
    "reduce(product,numbers)"
   ]
  },
  {
   "cell_type": "code",
   "execution_count": 30,
   "id": "6b1234cd-72b5-4f3c-a3c2-801b23882f59",
   "metadata": {},
   "outputs": [
    {
     "data": {
      "text/plain": [
       "[6, 60, 90, 120]"
      ]
     },
     "execution_count": 30,
     "metadata": {},
     "output_type": "execute_result"
    }
   ],
   "source": [
    "list5=[2,3,6,9,27,60,90,120,55,46]\n",
    "list(filter(lambda y: y%2==0 and y%3==0,list5))"
   ]
  },
  {
   "cell_type": "code",
   "execution_count": 38,
   "id": "f710f884-b567-4455-b947-7a88bf94f25c",
   "metadata": {},
   "outputs": [
    {
     "data": {
      "text/plain": [
       "['php', 'aba', 'radar', 'level']"
      ]
     },
     "execution_count": 38,
     "metadata": {},
     "output_type": "execute_result"
    }
   ],
   "source": [
    "list6=['python','php','aba','radar','level']\n",
    "list(filter(lambda string: string==string[::-1],list6))"
   ]
  }
 ],
 "metadata": {
  "kernelspec": {
   "display_name": "Python 3 (ipykernel)",
   "language": "python",
   "name": "python3"
  },
  "language_info": {
   "codemirror_mode": {
    "name": "ipython",
    "version": 3
   },
   "file_extension": ".py",
   "mimetype": "text/x-python",
   "name": "python",
   "nbconvert_exporter": "python",
   "pygments_lexer": "ipython3",
   "version": "3.10.8"
  }
 },
 "nbformat": 4,
 "nbformat_minor": 5
}
