{
 "cells": [
  {
   "cell_type": "code",
   "execution_count": null,
   "id": "65b21a76-db02-4d2b-a72a-497d0d2cbe80",
   "metadata": {},
   "outputs": [],
   "source": [
    "class vehicle:\n",
    "    def __init__(self,name_of_vehicle,max_speed,avg_speed_of_vehicle):\n",
    "        \n",
    "        self.name_of_vehicle=name_of_vehicle\n",
    "        self.max_speed=max_speed\n",
    "        self.avg_speed_of_vehicle=avg_speed_of_vehicle"
   ]
  },
  {
   "cell_type": "code",
   "execution_count": null,
   "id": "9b359c3d-f31d-4ade-a04c-eee8a73b56a9",
   "metadata": {},
   "outputs": [],
   "source": [
    "vehicle_obj=vehicle(\"Car\",300,100)"
   ]
  },
  {
   "cell_type": "code",
   "execution_count": 3,
   "id": "12884b31-aec5-4bb7-8762-c8327e7cc04b",
   "metadata": {},
   "outputs": [
    {
     "data": {
      "text/plain": [
       "'Car'"
      ]
     },
     "execution_count": 3,
     "metadata": {},
     "output_type": "execute_result"
    }
   ],
   "source": [
    "vehicle_obj.name_of_vehicle"
   ]
  },
  {
   "cell_type": "code",
   "execution_count": 4,
   "id": "dce69e30-951b-4a7a-8b5f-38ae5e616276",
   "metadata": {},
   "outputs": [
    {
     "data": {
      "text/plain": [
       "300"
      ]
     },
     "execution_count": 4,
     "metadata": {},
     "output_type": "execute_result"
    }
   ],
   "source": [
    "vehicle_obj.max_speed"
   ]
  },
  {
   "cell_type": "code",
   "execution_count": 5,
   "id": "1f5370b2-df8e-4c6f-9166-32ef55bf1638",
   "metadata": {},
   "outputs": [
    {
     "data": {
      "text/plain": [
       "100"
      ]
     },
     "execution_count": 5,
     "metadata": {},
     "output_type": "execute_result"
    }
   ],
   "source": [
    "vehicle_obj.avg_speed_of_vehicle"
   ]
  },
  {
   "cell_type": "code",
   "execution_count": 13,
   "id": "30bdc816-3bde-4b0d-94fc-a23e57ca0bb5",
   "metadata": {},
   "outputs": [],
   "source": [
    "class car(vehicle):\n",
    "    \n",
    "    def seating_capacity(self,capacity):\n",
    "        self.capacity=capacity\n",
    "        return self.name_of_vehicle,self.capacity"
   ]
  },
  {
   "cell_type": "code",
   "execution_count": 14,
   "id": "cba72f7a-35e2-410e-9b24-18297ed14b1e",
   "metadata": {},
   "outputs": [],
   "source": [
    "car_obj=car(\"bike\",150,70)"
   ]
  },
  {
   "cell_type": "code",
   "execution_count": 15,
   "id": "42e16182-0a4b-4f6c-b0b4-b8145a1424bf",
   "metadata": {},
   "outputs": [
    {
     "data": {
      "text/plain": [
       "('bike', 2)"
      ]
     },
     "execution_count": 15,
     "metadata": {},
     "output_type": "execute_result"
    }
   ],
   "source": [
    "car_obj.seating_capacity(2)"
   ]
  },
  {
   "cell_type": "markdown",
   "id": "3bed03a2-f3ac-4321-b267-be9eaf96ed1d",
   "metadata": {},
   "source": [
    "MULTIPLE-INHERITANCE"
   ]
  },
  {
   "cell_type": "code",
   "execution_count": 21,
   "id": "733ee961-9d65-4463-811a-590a9e4c3a9e",
   "metadata": {},
   "outputs": [],
   "source": [
    "class Father:\n",
    "    def father_name(self,name1):\n",
    "        self.name1=name1\n",
    "\n",
    "class Mother:\n",
    "    def mother_name(self,name2):\n",
    "        self.name2=name2\n",
    "        \n",
    "class Son(Father,Mother):\n",
    "    def parent_details(self):\n",
    "        print(\"Father name is:\",self.name1)\n",
    "        print(\"Mother name is:\",self.name2)"
   ]
  },
  {
   "cell_type": "code",
   "execution_count": 22,
   "id": "9a7de28e-969a-41bc-a446-45755c0c5f3d",
   "metadata": {},
   "outputs": [],
   "source": [
    "son_obj=Son()"
   ]
  },
  {
   "cell_type": "code",
   "execution_count": 23,
   "id": "7c3bdf00-c5de-4750-bb37-6839e7cdd2fd",
   "metadata": {},
   "outputs": [],
   "source": [
    "son_obj.father_name(\"Ram\")"
   ]
  },
  {
   "cell_type": "code",
   "execution_count": 24,
   "id": "78a5fc89-a283-40ad-98ce-5aabc3b7b2f6",
   "metadata": {},
   "outputs": [],
   "source": [
    "son_obj.mother_name(\"Sita\")"
   ]
  },
  {
   "cell_type": "code",
   "execution_count": 25,
   "id": "943699d7-37f9-4751-90f6-ba923e797f93",
   "metadata": {},
   "outputs": [
    {
     "name": "stdout",
     "output_type": "stream",
     "text": [
      "Father name is: Ram\n",
      "Mother name is: Sita\n"
     ]
    }
   ],
   "source": [
    "son_obj.parent_details()"
   ]
  },
  {
   "cell_type": "code",
   "execution_count": 26,
   "id": "153afaa2-4e67-40c4-b662-feabffc64021",
   "metadata": {},
   "outputs": [],
   "source": [
    "class Bank:\n",
    "    \n",
    "    def __init__(self,atm_pin):\n",
    "        self.__atm_pin=atm_pin"
   ]
  },
  {
   "cell_type": "code",
   "execution_count": 27,
   "id": "4be32db8-953a-424c-bbd4-4542574758e3",
   "metadata": {},
   "outputs": [],
   "source": [
    "bank_obj=Bank(2525)"
   ]
  },
  {
   "cell_type": "code",
   "execution_count": 28,
   "id": "77afdd8e-3d0e-45c4-8b9b-5e8d36c8692b",
   "metadata": {},
   "outputs": [
    {
     "ename": "AttributeError",
     "evalue": "'Bank' object has no attribute 'atm_pin'",
     "output_type": "error",
     "traceback": [
      "\u001b[0;31m---------------------------------------------------------------------------\u001b[0m",
      "\u001b[0;31mAttributeError\u001b[0m                            Traceback (most recent call last)",
      "Cell \u001b[0;32mIn[28], line 1\u001b[0m\n\u001b[0;32m----> 1\u001b[0m \u001b[43mbank_obj\u001b[49m\u001b[38;5;241;43m.\u001b[39;49m\u001b[43matm_pin\u001b[49m\n",
      "\u001b[0;31mAttributeError\u001b[0m: 'Bank' object has no attribute 'atm_pin'"
     ]
    }
   ],
   "source": [
    "bank_obj.atm_pin"
   ]
  },
  {
   "cell_type": "code",
   "execution_count": 34,
   "id": "871f532c-6766-4a34-b2ec-185b462b92d2",
   "metadata": {},
   "outputs": [],
   "source": [
    "class Bank1:\n",
    "    \n",
    "    def __init__(self,atm_pin):\n",
    "        self.__atm_pin=atm_pin\n",
    "        \n",
    "    @property\n",
    "    def atm_pin_access(self):\n",
    "        return self.__atm_pin"
   ]
  },
  {
   "cell_type": "code",
   "execution_count": 35,
   "id": "def97013-7f27-4183-8777-80a1f8e8b469",
   "metadata": {},
   "outputs": [],
   "source": [
    "bank1_obj=Bank1(3535)"
   ]
  },
  {
   "cell_type": "code",
   "execution_count": 36,
   "id": "de062c4a-5842-4769-a5a2-138a80031962",
   "metadata": {},
   "outputs": [
    {
     "data": {
      "text/plain": [
       "3535"
      ]
     },
     "execution_count": 36,
     "metadata": {},
     "output_type": "execute_result"
    }
   ],
   "source": [
    "bank1_obj.atm_pin_access"
   ]
  },
  {
   "cell_type": "code",
   "execution_count": 45,
   "id": "10622bb0-2f01-44b5-b009-a8548f9534f1",
   "metadata": {},
   "outputs": [],
   "source": [
    "class Bank2:\n",
    "    \n",
    "    def __init__(self,atm_pin):\n",
    "        self.__atm_pin=atm_pin\n",
    "        \n",
    "    @property\n",
    "    def atm_pin_access(self):\n",
    "        return self.__atm_pin\n",
    "    \n",
    "    @atm_pin_access.setter\n",
    "    def atm_pin_modify(self,new_pin):\n",
    "            self.__atm_pin=new_pin"
   ]
  },
  {
   "cell_type": "code",
   "execution_count": 46,
   "id": "9bbc471e-0139-4ea0-afc7-3f0e7a0d8725",
   "metadata": {},
   "outputs": [],
   "source": [
    "bank2_obj=Bank2(7575)"
   ]
  },
  {
   "cell_type": "code",
   "execution_count": 47,
   "id": "4b2b4c4e-6d97-439f-ba0f-957f7286c95a",
   "metadata": {},
   "outputs": [
    {
     "ename": "AttributeError",
     "evalue": "'Bank2' object has no attribute 'atm_pin'",
     "output_type": "error",
     "traceback": [
      "\u001b[0;31m---------------------------------------------------------------------------\u001b[0m",
      "\u001b[0;31mAttributeError\u001b[0m                            Traceback (most recent call last)",
      "Cell \u001b[0;32mIn[47], line 1\u001b[0m\n\u001b[0;32m----> 1\u001b[0m \u001b[43mbank2_obj\u001b[49m\u001b[38;5;241;43m.\u001b[39;49m\u001b[43matm_pin\u001b[49m\n",
      "\u001b[0;31mAttributeError\u001b[0m: 'Bank2' object has no attribute 'atm_pin'"
     ]
    }
   ],
   "source": [
    "bank2_obj.atm_pin"
   ]
  },
  {
   "cell_type": "code",
   "execution_count": 48,
   "id": "3bfede16-6201-4ab8-9f0a-ff79fa5fe354",
   "metadata": {},
   "outputs": [
    {
     "data": {
      "text/plain": [
       "7575"
      ]
     },
     "execution_count": 48,
     "metadata": {},
     "output_type": "execute_result"
    }
   ],
   "source": [
    "bank2_obj.atm_pin_access"
   ]
  },
  {
   "cell_type": "code",
   "execution_count": 50,
   "id": "02c87694-a51c-4617-95f1-53846a56c08b",
   "metadata": {},
   "outputs": [],
   "source": [
    "bank2_obj.atm_pin_modify=9595"
   ]
  },
  {
   "cell_type": "code",
   "execution_count": 51,
   "id": "e82134f0-f18b-4fae-8384-ebb4efd166d5",
   "metadata": {},
   "outputs": [
    {
     "data": {
      "text/plain": [
       "9595"
      ]
     },
     "execution_count": 51,
     "metadata": {},
     "output_type": "execute_result"
    }
   ],
   "source": [
    "bank2_obj.atm_pin_access"
   ]
  },
  {
   "cell_type": "markdown",
   "id": "238fa091-e8ad-4c0b-bead-8d8e3342cb2e",
   "metadata": {},
   "source": [
    "METHOD_OVERRIDING"
   ]
  },
  {
   "cell_type": "code",
   "execution_count": 64,
   "id": "ec1a6c5a-973f-400f-8e2c-8271073cede9",
   "metadata": {},
   "outputs": [],
   "source": [
    "class Parent:\n",
    "    \n",
    "    def __init__(self):\n",
    "        self.money_given=1000\n",
    "        \n",
    "    def pocket_money(self):\n",
    "        print(self.money_given)\n",
    "    \n",
    "class Child(Parent):\n",
    "    \n",
    "    def __init__(self):\n",
    "        self.money_asked=5000\n",
    "        \n",
    "    def pocket_money(self):\n",
    "        print(self.money_asked)"
   ]
  },
  {
   "cell_type": "code",
   "execution_count": 65,
   "id": "63468b8e-6c45-4ae2-a161-0ea4741347b3",
   "metadata": {},
   "outputs": [],
   "source": [
    "parent_obj=Parent()"
   ]
  },
  {
   "cell_type": "code",
   "execution_count": 66,
   "id": "86803d77-2a6a-4e73-bed5-a935869908b4",
   "metadata": {},
   "outputs": [],
   "source": [
    "child_obj=Child()"
   ]
  },
  {
   "cell_type": "code",
   "execution_count": 67,
   "id": "e125da8a-475c-43ea-bf8f-cf3cccfaaa6e",
   "metadata": {},
   "outputs": [
    {
     "name": "stdout",
     "output_type": "stream",
     "text": [
      "1000\n"
     ]
    }
   ],
   "source": [
    "parent_obj.pocket_money()"
   ]
  },
  {
   "cell_type": "code",
   "execution_count": 68,
   "id": "5352555d-a60e-4297-9d20-b62536fc1807",
   "metadata": {},
   "outputs": [
    {
     "name": "stdout",
     "output_type": "stream",
     "text": [
      "5000\n"
     ]
    }
   ],
   "source": [
    "child_obj.pocket_money()"
   ]
  }
 ],
 "metadata": {
  "kernelspec": {
   "display_name": "Python 3 (ipykernel)",
   "language": "python",
   "name": "python3"
  },
  "language_info": {
   "codemirror_mode": {
    "name": "ipython",
    "version": 3
   },
   "file_extension": ".py",
   "mimetype": "text/x-python",
   "name": "python",
   "nbconvert_exporter": "python",
   "pygments_lexer": "ipython3",
   "version": "3.10.8"
  }
 },
 "nbformat": 4,
 "nbformat_minor": 5
}
