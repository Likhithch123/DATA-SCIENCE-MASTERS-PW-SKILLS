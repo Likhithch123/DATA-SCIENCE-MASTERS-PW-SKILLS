{
 "cells": [
  {
   "cell_type": "code",
   "execution_count": 17,
   "id": "bd2c02cb-d288-450b-9cb1-a005d1437fb1",
   "metadata": {},
   "outputs": [],
   "source": [
    "# def is a keyword used to create a function.\n",
    "def odd_num_function(a,b):\n",
    "    l=[]\n",
    "    for i in range(a,b):\n",
    "        if i%2==1:\n",
    "            l.append(i)\n",
    "    return l"
   ]
  },
  {
   "cell_type": "code",
   "execution_count": 18,
   "id": "95c7110c-98d0-4e1c-8b4f-dfc7a8299f20",
   "metadata": {},
   "outputs": [
    {
     "data": {
      "text/plain": [
       "[1, 3, 5, 7, 9, 11, 13, 15, 17, 19, 21, 23]"
      ]
     },
     "execution_count": 18,
     "metadata": {},
     "output_type": "execute_result"
    }
   ],
   "source": [
    "odd_num_function(1,25)"
   ]
  },
  {
   "cell_type": "markdown",
   "id": "87188630-c7f0-4299-8664-37a7b76f6bd9",
   "metadata": {},
   "source": [
    "*args and **kwargs are used in some functions where the user what to return \n",
    "to all the arguments that are passed during a function call,and advantage  \n",
    "of these two keywords is that irrespective of the no.of.arguments passed, \n",
    "the function returns all the passed arguments.\n",
    "Basically these are used for returning the n no.of arguments."
   ]
  },
  {
   "cell_type": "code",
   "execution_count": 22,
   "id": "6f549943-c24f-4e8e-b2e7-502b696b6ae8",
   "metadata": {},
   "outputs": [],
   "source": [
    "def first_function(*args):\n",
    "    return args"
   ]
  },
  {
   "cell_type": "code",
   "execution_count": 23,
   "id": "1a8eca31-76a8-4314-872c-b92a233ed71a",
   "metadata": {},
   "outputs": [
    {
     "data": {
      "text/plain": [
       "tuple"
      ]
     },
     "execution_count": 23,
     "metadata": {},
     "output_type": "execute_result"
    }
   ],
   "source": [
    "type(first_function())"
   ]
  },
  {
   "cell_type": "code",
   "execution_count": 24,
   "id": "7e5697db-0ced-4445-a87e-e0906e6508b4",
   "metadata": {},
   "outputs": [
    {
     "data": {
      "text/plain": [
       "(1, 2, 3)"
      ]
     },
     "execution_count": 24,
     "metadata": {},
     "output_type": "execute_result"
    }
   ],
   "source": [
    "first_function(1,2,3)"
   ]
  },
  {
   "cell_type": "code",
   "execution_count": 25,
   "id": "363730b4-f89b-45bf-ade0-f4d4a28af451",
   "metadata": {},
   "outputs": [
    {
     "data": {
      "text/plain": [
       "([1, 2, 3], (4, 5, 6), 'pw skills')"
      ]
     },
     "execution_count": 25,
     "metadata": {},
     "output_type": "execute_result"
    }
   ],
   "source": [
    "first_function([1,2,3],(4,5,6),\"pw skills\")"
   ]
  },
  {
   "cell_type": "code",
   "execution_count": 26,
   "id": "5d15ee86-5e25-4aea-8ab7-1b8992083fa2",
   "metadata": {},
   "outputs": [],
   "source": [
    "def second_function(**kwargs):\n",
    "    return kwargs"
   ]
  },
  {
   "cell_type": "code",
   "execution_count": 27,
   "id": "18c75dfb-539b-41f2-8f1a-67781647e814",
   "metadata": {},
   "outputs": [
    {
     "data": {
      "text/plain": [
       "dict"
      ]
     },
     "execution_count": 27,
     "metadata": {},
     "output_type": "execute_result"
    }
   ],
   "source": [
    "type(second_function())"
   ]
  },
  {
   "cell_type": "code",
   "execution_count": 28,
   "id": "ac5991dc-50e3-46e3-9260-b889e6e187ac",
   "metadata": {},
   "outputs": [
    {
     "data": {
      "text/plain": [
       "{'a': 23, 'b': 90, 'c': {'key': 'value'}}"
      ]
     },
     "execution_count": 28,
     "metadata": {},
     "output_type": "execute_result"
    }
   ],
   "source": [
    "second_function(a=23,b=90,c={'key':'value'})"
   ]
  },
  {
   "cell_type": "markdown",
   "id": "b767e4e9-41f0-4554-9922-3dbca07a4641",
   "metadata": {},
   "source": [
    "Iterator in python allows the efficient access to a single element in a \n",
    "sequence at a time. This also allows for efficient and memory-saving loops  for a large amount of data."
   ]
  },
  {
   "cell_type": "code",
   "execution_count": 23,
   "id": "edc6fe1f-5e6a-424a-9e65-924185f37c58",
   "metadata": {},
   "outputs": [],
   "source": [
    "l=[]\n",
    "for i in range(2,21):\n",
    "    if i%2==0:\n",
    "        l.append(i)"
   ]
  },
  {
   "cell_type": "code",
   "execution_count": 24,
   "id": "68c1fb63-8e4f-4857-88ee-8d2f997f955a",
   "metadata": {},
   "outputs": [
    {
     "data": {
      "text/plain": [
       "[2, 4, 6, 8, 10, 12, 14, 16, 18, 20]"
      ]
     },
     "execution_count": 24,
     "metadata": {},
     "output_type": "execute_result"
    }
   ],
   "source": [
    "l"
   ]
  },
  {
   "cell_type": "markdown",
   "id": "a46a40b4-d75e-42c0-85ab-6b5a9a04b1ce",
   "metadata": {},
   "source": [
    "A generator fn in python is a special type of fn which generates a sequence of\n",
    "values. When a generator fn is called it retuns iterator that can be used to iterate over the values in a sequence.\n",
    "The yield keyword pauses generator function execution and the value of the expression following the yield keyword is returned to the generator's caller."
   ]
  },
  {
   "cell_type": "code",
   "execution_count": 69,
   "id": "9c30adb0-fa93-412e-9701-7c4ff7ec0fd3",
   "metadata": {},
   "outputs": [],
   "source": [
    "def iterator(n):\n",
    "    for i in n[:5]:\n",
    "        yield i"
   ]
  },
  {
   "cell_type": "code",
   "execution_count": 58,
   "id": "850c6512-7ace-44c3-952f-a397427695ee",
   "metadata": {},
   "outputs": [
    {
     "data": {
      "text/plain": [
       "<generator object iterator at 0x7ff2edb704a0>"
      ]
     },
     "execution_count": 58,
     "metadata": {},
     "output_type": "execute_result"
    }
   ],
   "source": [
    "iterator(l)"
   ]
  },
  {
   "cell_type": "code",
   "execution_count": 70,
   "id": "9d18a272-714b-4f33-bd26-943499fed142",
   "metadata": {},
   "outputs": [
    {
     "name": "stdout",
     "output_type": "stream",
     "text": [
      "2\n",
      "4\n",
      "6\n",
      "8\n",
      "10\n"
     ]
    }
   ],
   "source": [
    "for index in iterator(l):\n",
    "    print (index)"
   ]
  },
  {
   "cell_type": "code",
   "execution_count": 72,
   "id": "60299391-1a07-421a-9a15-6f89517ce408",
   "metadata": {},
   "outputs": [
    {
     "data": {
      "text/plain": [
       "generator"
      ]
     },
     "execution_count": 72,
     "metadata": {},
     "output_type": "execute_result"
    }
   ],
   "source": [
    "type(iterator(l))"
   ]
  },
  {
   "cell_type": "code",
   "execution_count": 40,
   "id": "8bcf8204-5f8c-44ff-9709-37d68e75ebe3",
   "metadata": {},
   "outputs": [],
   "source": [
    "list1=[]\n",
    "for num in range(1,1001):\n",
    "    if num==2:\n",
    "        list1.append(num)\n",
    "    elif num>1:\n",
    "        for i in range(2,num):\n",
    "            if num%i==0:\n",
    "                break\n",
    "        else:\n",
    "             list1.append(num)\n",
    "    else:\n",
    "        pass"
   ]
  },
  {
   "cell_type": "code",
   "execution_count": 41,
   "id": "2fef1b59-059e-488f-97f0-cd286d9e2ba1",
   "metadata": {},
   "outputs": [],
   "source": [
    "def generator_function():\n",
    "    for i in list1:\n",
    "        yield i"
   ]
  },
  {
   "cell_type": "code",
   "execution_count": 42,
   "id": "4aee4fe3-143d-4d53-a46c-b268601c5287",
   "metadata": {},
   "outputs": [
    {
     "data": {
      "text/plain": [
       "<generator object generator_function at 0x7f18042670d0>"
      ]
     },
     "execution_count": 42,
     "metadata": {},
     "output_type": "execute_result"
    }
   ],
   "source": [
    "generator_function()"
   ]
  },
  {
   "cell_type": "code",
   "execution_count": 43,
   "id": "2a179696-f9ca-4b20-baf8-fd6dc1554327",
   "metadata": {},
   "outputs": [
    {
     "name": "stdout",
     "output_type": "stream",
     "text": [
      "2\n",
      "3\n",
      "5\n",
      "7\n",
      "11\n",
      "13\n",
      "17\n",
      "19\n",
      "23\n",
      "29\n",
      "31\n",
      "37\n",
      "41\n",
      "43\n",
      "47\n",
      "53\n",
      "59\n",
      "61\n",
      "67\n",
      "71\n"
     ]
    }
   ],
   "source": [
    "prime_generator=generator_function()\n",
    "for num in range(20):\n",
    "    print(next(prime_generator))"
   ]
  }
 ],
 "metadata": {
  "kernelspec": {
   "display_name": "Python 3 (ipykernel)",
   "language": "python",
   "name": "python3"
  },
  "language_info": {
   "codemirror_mode": {
    "name": "ipython",
    "version": 3
   },
   "file_extension": ".py",
   "mimetype": "text/x-python",
   "name": "python",
   "nbconvert_exporter": "python",
   "pygments_lexer": "ipython3",
   "version": "3.10.8"
  }
 },
 "nbformat": 4,
 "nbformat_minor": 5
}
